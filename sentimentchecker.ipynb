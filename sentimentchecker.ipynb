{
 "cells": [
  {
   "cell_type": "code",
   "execution_count": 30,
   "id": "65ed5b1f",
   "metadata": {},
   "outputs": [],
   "source": [
    "from tkinter import *\n",
    "from textblob import TextBlob\n",
    "import pandas as pd\n",
    "import matplotlib.pyplot as plt\n",
    "import numpy as np"
   ]
  },
  {
   "cell_type": "code",
   "execution_count": 40,
   "id": "39e692ab",
   "metadata": {},
   "outputs": [],
   "source": [
    "import matplotlib\n",
    "import tkinter\n",
    "matplotlib.use(\"TkAgg\")\n",
    "from matplotlib.backends.backend_tkagg import FigureCanvasTkAgg,NavigationToolbar2Tk\n",
    "from matplotlib.figure import Figure\n",
    "root=Tk()\n",
    "def getgarph():\n",
    "    words=e.get()\n",
    "    text=TextBlob(words)\n",
    "    countwords=len(words)-words.count(\" \")  \n",
    "    sentiment=text.sentiment\n",
    "    t=text.polarity\n",
    "    Label(root,text=f\"wordscount={countwords}\").pack()\n",
    "    Label(root,text=f\"sentiment={sentiment}\").pack()\n",
    "    if(t>0):\n",
    "        c_width = 500\n",
    "        c_height = 200\n",
    "        c = Canvas(root, width=c_width, height=c_height)\n",
    "        c.pack()\n",
    "\n",
    "        c.create_rectangle(20, 140, 100, 180, fill=\"yellow\")\n",
    "        c.create_text(70, 130, text=\"Happy\")\n",
    "        c.create_rectangle(140, 160, 240, 180, fill=\"grey\")\n",
    "        c.create_text(190, 150, text=\"sad\")\n",
    "        c.create_line(0,180,500,180)\n",
    "        \n",
    "    elif(t<0):\n",
    "        c_width = 500\n",
    "        c_height = 200\n",
    "        c = Canvas(root, width=c_width, height=c_height)\n",
    "        c.pack()\n",
    "\n",
    "        c.create_rectangle(20, 140, 100, 180, fill=\"red\")\n",
    "        c.create_text(70, 130, text=\"Sad\")\n",
    "        c.create_rectangle(140, 160, 240, 180, fill=\"yellow\")\n",
    "        c.create_text(190, 150, text=\"Happy\")\n",
    "        c.create_line(0,180,500,180)\n",
    "        \n",
    "    else:\n",
    "        c_width = 500\n",
    "        c_height = 200\n",
    "        c = Canvas(root, width=c_width, height=c_height)\n",
    "        c.pack()\n",
    "        c.create_rectangle(140, 160, 240, 180, fill=\"blue\")\n",
    "        c.create_text(190, 150, text=\"Nuetral\")\n",
    "        c.create_line(0,180,500,180)\n",
    "        \n",
    "    \n",
    "    \n",
    "    \n",
    "\n",
    "    \n",
    "    \n",
    "    \n",
    "\n",
    "        \n",
    "e=Entry(root,width=100)\n",
    "e.pack()\n",
    "b=Button(root,text=\"analysis\",command=getgarph)\n",
    "b.pack()\n",
    "\n",
    "\n",
    "\n",
    "root.mainloop()"
   ]
  },
  {
   "cell_type": "code",
   "execution_count": null,
   "id": "344f1e74",
   "metadata": {},
   "outputs": [],
   "source": []
  },
  {
   "cell_type": "code",
   "execution_count": null,
   "id": "bff2df58",
   "metadata": {},
   "outputs": [],
   "source": []
  },
  {
   "cell_type": "code",
   "execution_count": null,
   "id": "8940d779",
   "metadata": {},
   "outputs": [],
   "source": []
  }
 ],
 "metadata": {
  "kernelspec": {
   "display_name": "Python 3 (ipykernel)",
   "language": "python",
   "name": "python3"
  },
  "language_info": {
   "codemirror_mode": {
    "name": "ipython",
    "version": 3
   },
   "file_extension": ".py",
   "mimetype": "text/x-python",
   "name": "python",
   "nbconvert_exporter": "python",
   "pygments_lexer": "ipython3",
   "version": "3.9.4"
  }
 },
 "nbformat": 4,
 "nbformat_minor": 5
}
